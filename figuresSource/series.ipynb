{
 "cells": [
  {
   "cell_type": "markdown",
   "metadata": {},
   "source": [
    "# Notebook series course"
   ]
  },
  {
   "cell_type": "code",
   "execution_count": 2,
   "metadata": {},
   "outputs": [],
   "source": [
    "from matplotlib import pyplot as plt\n",
    "from matplotlib.ticker import FixedLocator\n",
    "from matplotlib import rcParams\n",
    "\n",
    "# default font family\n",
    "rcParams['font.family'] = \"Bitstream Vera Sans Mono\"\n",
    "rcParams['font.style'] = \"italic\"\n",
    "\n",
    "import numpy as np"
   ]
  },
  {
   "cell_type": "markdown",
   "metadata": {},
   "source": [
    "### fig_series_1a"
   ]
  },
  {
   "cell_type": "code",
   "execution_count": 22,
   "metadata": {},
   "outputs": [
    {
     "data": {
      "image/png": "[encoded data removed]",
      "text/plain": [
       "<Figure size 324x216 with 1 Axes>"
      ]
     },
     "metadata": {
      "needs_background": "light"
     },
     "output_type": "display_data"
    }
   ],
   "source": [
    "plotname = \"fig_series_1a\"\n",
    "\n",
    "scale=.75\n",
    "fig = plt.figure(figsize=(6*scale, 4*scale))\n",
    "ax = fig.add_axes([0, 0, 1, 1])\n",
    "\n",
    "# Opmaak\n",
    "for direction in [\"left\", \"right\", \"bottom\", \"top\"]:\n",
    "    # hides borders\n",
    "    ax.spines[direction].set_color('none')\n",
    "    if direction in [\"left\", \"bottom\"]:\n",
    "        ax.spines[direction].set_position('zero')\n",
    "\n",
    "ax.set_xlim(-5, 120)\n",
    "ax.set_ylim(-15, 17)\n",
    "\n",
    "ax.set_xticks([20, 40, 60, 80, 100])\n",
    "ax.set_yticks([-10, -5, 0, 5, 10])\n",
    "\n",
    "xarrowscale = 6.5\n",
    "yarrowscale = 7\n",
    "ax.arrow(-5, 0, 120, 0, fc='k', ec='k', lw = .7, head_width=0.19*xarrowscale, head_length=0.8*xarrowscale, overhang = 0.3, length_includes_head= True, clip_on = False, zorder=0)\n",
    "ax.arrow(0, -15, 0, 30, fc='k', ec='k', lw = .7, head_width=0.4*yarrowscale, head_length=0.28*yarrowscale, overhang = 0.3, length_includes_head= True, clip_on = False, zorder=0)\n",
    "\n",
    "ax.text(120, 0, s=\"n\", fontsize=12, ha=\"center\", va=\"center\")\n",
    "ax.text(0, 16.2, s=\"y\", fontsize=12, ha=\"center\", va=\"center\")\n",
    "\n",
    "# Plot\n",
    "n = np.arange(0, 100, 5)\n",
    "y = lambda n : (3*n**2 - 2*n + 1) / (n**2 - 1000)\n",
    "\n",
    "ax.scatter(n, y(n), s=30, c=\"k\", zorder=1)\n",
    "ax.text(60, -10, s=r\"$a_n = \\dfrac{3n^2 - 2n + 1}{n^2 - 1000}$\", fontsize=12, ha=\"center\", va=\"center\")\n",
    "\n",
    "fig.savefig(f\"plots/{plotname}.pdf\", pad_inches=0.01, transparent=\"True\", bbox_inches='tight')"
   ]
  },
  {
   "cell_type": "markdown",
   "metadata": {},
   "source": [
    "### fig_series_1b"
   ]
  },
  {
   "cell_type": "code",
   "execution_count": 53,
   "metadata": {},
   "outputs": [
    {
     "data": {
      "image/png": "[encoded data removed]",
      "text/plain": [
       "<Figure size 302.4x201.6 with 1 Axes>"
      ]
     },
     "metadata": {
      "needs_background": "light"
     },
     "output_type": "display_data"
    }
   ],
   "source": [
    "plotname = \"fig_series_1b\"\n",
    "\n",
    "scale=.7\n",
    "fig = plt.figure(figsize=(6*scale, 4*scale))\n",
    "ax = fig.add_axes([0, 0, 1, 1])\n",
    "\n",
    "# Opmaak\n",
    "for direction in [\"left\", \"right\", \"bottom\", \"top\"]:\n",
    "    # hides borders\n",
    "    ax.spines[direction].set_color('none')\n",
    "    if direction in [\"left\", \"bottom\"]:\n",
    "        ax.spines[direction].set_position('zero')\n",
    "\n",
    "ax.set_xlim(-5, 120)\n",
    "ax.set_ylim(-1.5, 1.5)\n",
    "\n",
    "ax.set_xticks([20, 40, 60, 80, 100])\n",
    "ax.set_yticks([-1, -.5, .5, 1])\n",
    "ax.set_yticklabels([\"-1\", \"-0.5\", \"0.5\", \"1\"])\n",
    "\n",
    "xarrowscale = 6.5\n",
    "yarrowscale = 7\n",
    "ax.arrow(-5, 0, 120, 0, fc='k', ec='k', lw = .7, head_width=0.018*xarrowscale, head_length=0.8*xarrowscale, overhang = 0.3, length_includes_head= True, clip_on = False, zorder=0)\n",
    "ax.arrow(0, -1.5, 0, 3, fc='k', ec='k', lw = .7, head_width=0.4*yarrowscale, head_length=0.03*yarrowscale, overhang = 0.3, length_includes_head= True, clip_on = False, zorder=0)\n",
    "\n",
    "ax.text(120, 0, s=\"n\", fontsize=11, ha=\"center\", va=\"center\")\n",
    "ax.text(0, 1.6, s=\"y\", fontsize=11, ha=\"center\", va=\"center\")\n",
    "\n",
    "# Plot\n",
    "n = np.arange(1, 100, 1)\n",
    "y = lambda n : np.cos(n)\n",
    "\n",
    "ax.scatter(n, y(n), s=30, c=\"k\", zorder=1)\n",
    "\n",
    "ax.text(60, 1.2, s=r\"$a_n=\\cos(n)$\", fontsize=12, ha=\"center\", va=\"center\")\n",
    "\n",
    "fig.savefig(f\"plots/{plotname}.pdf\", pad_inches=0.01, transparent=\"True\", bbox_inches='tight')"
   ]
  },
  {
   "cell_type": "markdown",
   "metadata": {},
   "source": [
    "### fig_series_1c"
   ]
  },
  {
   "cell_type": "code",
   "execution_count": 87,
   "metadata": {},
   "outputs": [
    {
     "data": {
      "image/png": "[encoded data removed]",
      "text/plain": [
       "<Figure size 317.52x201.6 with 1 Axes>"
      ]
     },
     "metadata": {
      "needs_background": "light"
     },
     "output_type": "display_data"
    }
   ],
   "source": [
    "plotname = \"fig_series_1c\"\n",
    "\n",
    "scale=.7\n",
    "fig = plt.figure(figsize=(6.3*scale, 4*scale))\n",
    "ax = fig.add_axes([0, 0, 1, 1])\n",
    "\n",
    "# Opmaak\n",
    "for direction in [\"left\", \"right\", \"bottom\", \"top\"]:\n",
    "    # hides borders\n",
    "    ax.spines[direction].set_color('none')\n",
    "    if direction in [\"left\", \"bottom\"]:\n",
    "        ax.spines[direction].set_position('zero')\n",
    "\n",
    "ax.set_xlim(-5, 25)\n",
    "ax.set_ylim(-1.25, 1.35)\n",
    "\n",
    "ax.set_xticks([5, 10, 15, 20])\n",
    "ax.set_yticks([-1, -.5, .5, 1])\n",
    "ax.set_yticklabels([\"-1\", \"-0.5\", \"0.5\", \"1\"])\n",
    "\n",
    "xarrowscale = 6\n",
    "yarrowscale = 6\n",
    "ax.arrow(-5, 0, 30, 0, fc='k', ec='k', lw = .7, head_width=0.018*xarrowscale, head_length=0.22*xarrowscale, overhang = 0.3, length_includes_head= True, clip_on = False, zorder=0)\n",
    "ax.arrow(0, -1.25, 0, 2.6, fc='k', ec='k', lw = .7, head_width=0.12*yarrowscale, head_length=0.03*yarrowscale, overhang = 0.3, length_includes_head= True, clip_on = False, zorder=0)\n",
    "\n",
    "ax.text(26, 0, s=\"n\", fontsize=11, ha=\"center\", va=\"center\")\n",
    "ax.text(0, 1.45, s=\"y\", fontsize=11, ha=\"center\", va=\"center\")\n",
    "\n",
    "# Plot\n",
    "n = np.arange(1, 21, 1)\n",
    "y = lambda n : (-1)**n / n\n",
    "\n",
    "ax.scatter(n, y(n), s=30, c=\"k\", zorder=1)\n",
    "\n",
    "ax.text(10, -.75, s=r\"$a_n=\\dfrac{(-1)^n}{n}$\", fontsize=12, ha=\"center\", va=\"center\")\n",
    "\n",
    "fig.savefig(f\"plots/{plotname}.pdf\", pad_inches=0.01, transparent=\"True\", bbox_inches='tight')"
   ]
  },
  {
   "cell_type": "markdown",
   "metadata": {},
   "source": [
    "### fig_series_2"
   ]
  },
  {
   "cell_type": "code",
   "execution_count": 100,
   "metadata": {},
   "outputs": [
    {
     "data": {
      "image/png": "[encoded data removed]",
      "text/plain": [
       "<Figure size 307.44x201.6 with 1 Axes>"
      ]
     },
     "metadata": {
      "needs_background": "light"
     },
     "output_type": "display_data"
    }
   ],
   "source": [
    "plotname = \"fig_series_2\"\n",
    "\n",
    "scale=.7\n",
    "fig = plt.figure(figsize=(6.1*scale, 4*scale))\n",
    "ax = fig.add_axes([0, 0, 1, 1])\n",
    "\n",
    "# Opmaak\n",
    "for direction in [\"left\", \"right\", \"bottom\", \"top\"]:\n",
    "    # hides borders\n",
    "    ax.spines[direction].set_color('none')\n",
    "    if direction in [\"left\", \"bottom\"]:\n",
    "        ax.spines[direction].set_position('zero')\n",
    "\n",
    "ax.set_xlim(-5, 25)\n",
    "ax.set_ylim(-2.25, 2.65)\n",
    "\n",
    "ax.set_xticks([5, 10, 15, 20])\n",
    "ax.set_yticks([-2, -1, 1, 2])\n",
    "\n",
    "xarrowscale = 6\n",
    "yarrowscale = 6\n",
    "ax.arrow(-5, 0, 30, 0, fc='k', ec='k', lw = .7, head_width=0.03*xarrowscale, head_length=0.22*xarrowscale, overhang = 0.3, length_includes_head= True, clip_on = False, zorder=0)\n",
    "ax.arrow(0, -2.25, 0, 4.75, fc='k', ec='k', lw = .7, head_width=0.12*yarrowscale, head_length=0.05*yarrowscale, overhang = 0.3, length_includes_head= True, clip_on = False, zorder=0)\n",
    "\n",
    "ax.text(26, 0, s=\"n\", fontsize=11, ha=\"center\", va=\"center\")\n",
    "ax.text(0, 2.7, s=\"y\", fontsize=11, ha=\"center\", va=\"center\")\n",
    "\n",
    "# Plot\n",
    "n = np.arange(1, 21, 1)\n",
    "y = lambda n : (-1)**n * (n + 1) / n\n",
    "\n",
    "ax.scatter(n, y(n), s=30, c=\"k\", zorder=1)\n",
    "\n",
    "ax.text(15, 1.75, s=r\"$a_n=\\dfrac{(-1)^n  (n + 1)}{n}$\", fontsize=12, ha=\"center\", va=\"center\")\n",
    "\n",
    "fig.savefig(f\"plots/{plotname}.pdf\", pad_inches=0.01, transparent=\"True\", bbox_inches='tight')"
   ]
  },
  {
   "cell_type": "markdown",
   "metadata": {},
   "source": [
    "### fig_series_3a"
   ]
  },
  {
   "cell_type": "code",
   "execution_count": 121,
   "metadata": {},
   "outputs": [
    {
     "data": {
      "image/png": "[encoded data removed]",
      "text/plain": [
       "<Figure size 317.52x201.6 with 1 Axes>"
      ]
     },
     "metadata": {
      "needs_background": "light"
     },
     "output_type": "display_data"
    }
   ],
   "source": [
    "plotname = \"fig_series_3a\"\n",
    "\n",
    "scale=.7\n",
    "fig = plt.figure(figsize=(6.3*scale, 4*scale))\n",
    "ax = fig.add_axes([0, 0, 1, 1])\n",
    "\n",
    "# Opmaak\n",
    "for direction in [\"left\", \"right\", \"bottom\", \"top\"]:\n",
    "    # hides borders\n",
    "    ax.spines[direction].set_color('none')\n",
    "    if direction in [\"left\", \"bottom\"]:\n",
    "        ax.spines[direction].set_position('zero')\n",
    "\n",
    "ax.set_xlim(-2, 12)\n",
    "ax.set_ylim(-.25, 1.25)\n",
    "\n",
    "ax.set_xticks([1, 2, 3, 4, 5, 6, 7, 8, 9, 10])\n",
    "ax.set_yticks([.1, .25, .5, 1])\n",
    "ax.set_yticklabels([r\"$\\frac{1}{10}$\", r\"$\\frac{1}{4}$\", r\"$\\frac{1}{2}$\", \"1\"])\n",
    "\n",
    "xarrowscale = 3\n",
    "yarrowscale = 3\n",
    "ax.arrow(-2, 0, 14, 0, fc='k', ec='k', lw = .7, head_width=0.02*xarrowscale, head_length=0.22*xarrowscale, overhang = 0.3, length_includes_head= True, clip_on = False, zorder=0)\n",
    "ax.arrow(0, -.25, 0, 1.45, fc='k', ec='k', lw = .7, head_width=0.12*yarrowscale, head_length=0.035*yarrowscale, overhang = 0.3, length_includes_head= True, clip_on = False, zorder=0)\n",
    "\n",
    "ax.text(12.5, 0, s=\"n\", fontsize=11, ha=\"center\", va=\"center\")\n",
    "ax.text(0, 1.3, s=\"y\", fontsize=11, ha=\"center\", va=\"center\")\n",
    "\n",
    "# Plot\n",
    "n = np.arange(1, 11, 1)\n",
    "y = lambda n : 1 / n\n",
    "\n",
    "ax.scatter(n, y(n), s=30, c=\"k\", zorder=1)\n",
    "\n",
    "ax.text(5, .75, s=r\"$a_n=\\dfrac{1}{n}$\", fontsize=12, ha=\"center\", va=\"center\")\n",
    "\n",
    "fig.savefig(f\"plots/{plotname}.pdf\", pad_inches=0.01, transparent=\"True\", bbox_inches='tight')"
   ]
  },
  {
   "cell_type": "markdown",
   "metadata": {},
   "source": [
    "### fig_series_3b"
   ]
  },
  {
   "cell_type": "code",
   "execution_count": 146,
   "metadata": {},
   "outputs": [
    {
     "data": {
      "image/png": "[encoded data removed]",
      "text/plain": [
       "<Figure size 317.52x201.6 with 1 Axes>"
      ]
     },
     "metadata": {
      "needs_background": "light"
     },
     "output_type": "display_data"
    }
   ],
   "source": [
    "plotname = \"fig_series_3b\"\n",
    "\n",
    "scale=.7\n",
    "fig = plt.figure(figsize=(6.3*scale, 4*scale))\n",
    "ax = fig.add_axes([0, 0, 1, 1])\n",
    "\n",
    "# Opmaak\n",
    "for direction in [\"left\", \"right\", \"bottom\", \"top\"]:\n",
    "    # hides borders\n",
    "    ax.spines[direction].set_color('none')\n",
    "    if direction in [\"left\", \"bottom\"]:\n",
    "        ax.spines[direction].set_position('zero')\n",
    "\n",
    "ax.set_xlim(-2, 12)\n",
    "ax.set_ylim(0 ,275)\n",
    "\n",
    "ax.set_xticks([2, 4, 6, 8])\n",
    "ax.set_yticks([100, 200])\n",
    "\n",
    "xarrowscale = 2.5\n",
    "yarrowscale = 3\n",
    "ax.arrow(-2, 0, 13.5, 0, fc='k', ec='k', lw = .7, head_width=4*xarrowscale, head_length=.22*xarrowscale, overhang = 0.3, length_includes_head= True, clip_on = False, zorder=0)\n",
    "ax.arrow(0, 0, 0, 260, fc='k', ec='k', lw = .7, head_width=0.12*yarrowscale, head_length=6*yarrowscale, overhang = 0.3, length_includes_head= True, clip_on = False, zorder=0)\n",
    "\n",
    "ax.text(12, 0, s=\"n\", fontsize=11, ha=\"center\", va=\"center\")\n",
    "ax.text(0, 275, s=\"y\", fontsize=11, ha=\"center\", va=\"center\")\n",
    "\n",
    "# Plot\n",
    "n = np.arange(1, 9, 1)\n",
    "y = lambda n : 2**n\n",
    "\n",
    "ax.scatter(n, y(n), s=30, c=\"k\", zorder=1)\n",
    "\n",
    "ax.text(4, 150, s=r\"$a_n=2^n$\", fontsize=12, ha=\"center\", va=\"center\")\n",
    "\n",
    "fig.savefig(f\"plots/{plotname}.pdf\", pad_inches=0.01, transparent=\"True\", bbox_inches='tight')"
   ]
  },
  {
   "cell_type": "markdown",
   "metadata": {},
   "source": [
    "### fig_series_4a"
   ]
  },
  {
   "cell_type": "code",
   "execution_count": 23,
   "metadata": {},
   "outputs": [
    {
     "data": {
      "image/png": "[encoded data removed]",
      "text/plain": [
       "<Figure size 302.4x201.6 with 1 Axes>"
      ]
     },
     "metadata": {
      "needs_background": "light"
     },
     "output_type": "display_data"
    }
   ],
   "source": [
    "plotname = \"fig_series_4a\"\n",
    "\n",
    "scale=.7\n",
    "fig = plt.figure(figsize=(6*scale, 4*scale))\n",
    "ax = fig.add_axes([0, 0, 1, 1])\n",
    "\n",
    "# Opmaak\n",
    "for direction in [\"left\", \"right\", \"bottom\", \"top\"]:\n",
    "    # hides borders\n",
    "    ax.spines[direction].set_color('none')\n",
    "    if direction in [\"left\", \"bottom\"]:\n",
    "        ax.spines[direction].set_position('zero')\n",
    "\n",
    "ax.set_xlim(-5, 12)\n",
    "ax.set_ylim(-.25 , 2.65)\n",
    "\n",
    "ax.set_xticks([5, 10])\n",
    "ax.set_yticks([1, 2])\n",
    "\n",
    "xarrowscale = 3\n",
    "yarrowscale = .35\n",
    "ax.arrow(-5, 0, 16.5, 0, fc='k', ec='k', lw = .7, head_width=.04*xarrowscale, head_length=.22*xarrowscale, overhang = 0.3, length_includes_head= True, clip_on = False, zorder=0)\n",
    "ax.arrow(0, -.25, 0, 2.65, fc='k', ec='k', lw = .7, head_width=1.2*yarrowscale, head_length=.6*yarrowscale, overhang = 0.3, length_includes_head= True, clip_on = False, zorder=0)\n",
    "\n",
    "ax.text(12, 0, s=\"n\", fontsize=11, ha=\"center\", va=\"center\")\n",
    "ax.text(0, 2.6, s=\"y\", fontsize=11, ha=\"center\", va=\"center\")\n",
    "\n",
    "# Plot\n",
    "n = np.arange(1, 11, 1)\n",
    "y = lambda n : (n + 1) / n\n",
    "\n",
    "ax.scatter(n, y(n), s=25, c=\"k\", zorder=1)\n",
    "\n",
    "ax.text(7, 1.75, s=r\"$a_n=\\dfrac{(n+1)}{n}$\", fontsize=12, ha=\"center\", va=\"center\")\n",
    "\n",
    "fig.savefig(f\"plots/{plotname}.pdf\", pad_inches=0.01, transparent=\"True\", bbox_inches='tight')"
   ]
  },
  {
   "cell_type": "markdown",
   "metadata": {},
   "source": [
    "### fig_series_4b"
   ]
  },
  {
   "cell_type": "code",
   "execution_count": 194,
   "metadata": {},
   "outputs": [
    {
     "data": {
      "image/png": "[encoded data removed]",
      "text/plain": [
       "<Figure size 307.44x201.6 with 1 Axes>"
      ]
     },
     "metadata": {
      "needs_background": "light"
     },
     "output_type": "display_data"
    }
   ],
   "source": [
    "plotname = \"fig_series_4b\"\n",
    "\n",
    "scale=.7\n",
    "fig = plt.figure(figsize=(6.1*scale, 4*scale))\n",
    "ax = fig.add_axes([0, 0, 1, 1])\n",
    "\n",
    "# Opmaak\n",
    "for direction in [\"left\", \"right\", \"bottom\", \"top\"]:\n",
    "    # hides borders\n",
    "    ax.spines[direction].set_color('none')\n",
    "    if direction in [\"left\", \"bottom\"]:\n",
    "        ax.spines[direction].set_position('zero')\n",
    "\n",
    "ax.set_xlim(-1, 12)\n",
    "ax.set_ylim(-.5, 2.5)\n",
    "\n",
    "ax.set_xticks([5, 10])\n",
    "ax.set_yticks([.5, 1, 1.5, 2])\n",
    "ax.set_yticklabels([\"0.5\", \"1\", \"1.5\", \"2\"])\n",
    "\n",
    "xarrowscale = 2.5\n",
    "yarrowscale = 2.5\n",
    "ax.arrow(-1, 0, 13, 0, fc='k', ec='k', lw = .7, head_width=0.05*xarrowscale, head_length=0.22*xarrowscale, overhang = 0.3, length_includes_head= True, clip_on = False, zorder=0)\n",
    "ax.arrow(0, -.5, 0, 2.85, fc='k', ec='k', lw = .7, head_width=0.12*yarrowscale, head_length=0.08*yarrowscale, overhang = 0.3, length_includes_head= True, clip_on = False, zorder=0)\n",
    "\n",
    "ax.text(12.5, 0, s=\"n\", fontsize=11, ha=\"center\", va=\"center\")\n",
    "ax.text(0, 2.5, s=\"y\", fontsize=11, ha=\"center\", va=\"center\")\n",
    "\n",
    "# Plot\n",
    "n = np.arange(1, 11, 1)\n",
    "y = lambda n : n**2 / (np.math.factorial(n))\n",
    "y = [y(i) for i in n]\n",
    "ax.scatter(n, y, s=30, c=\"k\", zorder=1)\n",
    "\n",
    "ax.text(7, 1, s=r\"$a_n=\\dfrac{n^2}{n!}$\", fontsize=12, ha=\"center\", va=\"center\")\n",
    "\n",
    "fig.savefig(f\"plots/{plotname}.pdf\", pad_inches=0.01, transparent=\"True\", bbox_inches='tight')"
   ]
  },
  {
   "cell_type": "markdown",
   "metadata": {},
   "source": [
    "### fig_series_4b(tbc)"
   ]
  },
  {
   "cell_type": "code",
   "execution_count": 217,
   "metadata": {},
   "outputs": [
    {
     "data": {
      "image/png": "[encoded data removed]",
      "text/plain": [
       "<Figure size 307.44x201.6 with 1 Axes>"
      ]
     },
     "metadata": {
      "needs_background": "light"
     },
     "output_type": "display_data"
    }
   ],
   "source": [
    "plotname = \"fig_series_4b(tbc)\"\n",
    "\n",
    "scale=.7\n",
    "fig = plt.figure(figsize=(6.1*scale, 4*scale))\n",
    "ax = fig.add_axes([0, 0, 1, 1])\n",
    "\n",
    "# Opmaak\n",
    "for direction in [\"left\", \"right\", \"bottom\", \"top\"]:\n",
    "    # hides borders\n",
    "    ax.spines[direction].set_color('none')\n",
    "    if direction in [\"left\", \"bottom\"]:\n",
    "        ax.spines[direction].set_position('zero')\n",
    "\n",
    "ax.set_xlim(-1, 12)\n",
    "ax.set_ylim(-2, 18)\n",
    "\n",
    "ax.set_xticks([5, 10])\n",
    "ax.set_yticks([5, 10, 15])\n",
    "\n",
    "xarrowscale = 2.5\n",
    "yarrowscale = 2.5\n",
    "ax.arrow(-1, 0, 13, 0, fc='k', ec='k', lw = .7, head_width=0.3*xarrowscale, head_length=0.22*xarrowscale, overhang = 0.3, length_includes_head= True, clip_on = False, zorder=0)\n",
    "ax.arrow(0, -2, 0, 19, fc='k', ec='k', lw = .7, head_width=0.12*yarrowscale, head_length=0.5*yarrowscale, overhang = 0.3, length_includes_head= True, clip_on = False, zorder=0)\n",
    "\n",
    "ax.text(12.5, 0, s=\"n\", fontsize=11, ha=\"center\", va=\"center\")\n",
    "ax.text(0, 18, s=\"y\", fontsize=11, ha=\"center\", va=\"center\")\n",
    "\n",
    "# Plot\n",
    "n = np.arange(1, 11, 1)\n",
    "y = lambda n : (n**2 - 9) / (n**2 - 10*n + 26)\n",
    "\n",
    "ax.scatter(n, y(n), s=30, c=\"k\", zorder=1)\n",
    "\n",
    "ax.text(4, 10, s=r\"$a_n=\\dfrac{n^2 - 9}{n^2 - 10n + 26}$\", fontsize=12, ha=\"center\", va=\"center\")\n",
    "\n",
    "fig.savefig(f\"plots/{plotname}.pdf\", pad_inches=0.01, transparent=\"True\", bbox_inches='tight')"
   ]
  },
  {
   "cell_type": "markdown",
   "metadata": {},
   "source": [
    "### fig_series_5a"
   ]
  },
  {
   "cell_type": "code",
   "execution_count": 231,
   "metadata": {},
   "outputs": [
    {
     "data": {
      "image/png": "[encoded data removed]",
      "text/plain": [
       "<Figure size 317.52x201.6 with 1 Axes>"
      ]
     },
     "metadata": {
      "needs_background": "light"
     },
     "output_type": "display_data"
    }
   ],
   "source": [
    "plotname = \"fig_series_5a\"\n",
    "\n",
    "scale=.7\n",
    "fig = plt.figure(figsize=(6.3*scale, 4*scale))\n",
    "ax = fig.add_axes([0, 0, 1, 1])\n",
    "\n",
    "# Opmaak\n",
    "for direction in [\"left\", \"right\", \"bottom\", \"top\"]:\n",
    "    # hides borders\n",
    "    ax.spines[direction].set_color('none')\n",
    "    if direction in [\"left\", \"bottom\"]:\n",
    "        ax.spines[direction].set_position('zero')\n",
    "\n",
    "ax.set_xlim(-1, 12)\n",
    "ax.set_ylim(-5, 400)\n",
    "\n",
    "ax.set_xticks([5, 10])\n",
    "ax.set_yticks([100, 200, 300])\n",
    "\n",
    "xarrowscale = 2.5\n",
    "yarrowscale = 3\n",
    "ax.arrow(-1, 0, 12.5, 0, fc='k', ec='k', lw = .7, head_width=7*xarrowscale, head_length=.25*xarrowscale, overhang = 0.3, length_includes_head= True, clip_on = False, zorder=0)\n",
    "ax.arrow(0, 0, 0, 385, fc='k', ec='k', lw = .7, head_width=0.12*yarrowscale, head_length=9*yarrowscale, overhang = 0.3, length_includes_head= True, clip_on = False, zorder=0)\n",
    "\n",
    "ax.text(12, 0, s=\"n\", fontsize=11, ha=\"center\", va=\"center\")\n",
    "ax.text(0, 400, s=\"y\", fontsize=11, ha=\"center\", va=\"center\")\n",
    "\n",
    "# Plot\n",
    "n = np.arange(1, 11, 1)\n",
    "y1 = lambda n : n**2\n",
    "y2 = lambda n : n * (n + 1) * (2*n + 1)/6\n",
    "\n",
    "ax.scatter(n, y1(n), s=30, c=\"k\", zorder=1)\n",
    "ax.scatter(n, y2(n), s=30, c=\"gray\", zorder=1)\n",
    "\n",
    "fig.savefig(f\"plots/{plotname}.pdf\", pad_inches=0.01, transparent=\"True\", bbox_inches='tight')"
   ]
  },
  {
   "cell_type": "markdown",
   "metadata": {},
   "source": [
    "### fig_series_5b"
   ]
  },
  {
   "cell_type": "code",
   "execution_count": 252,
   "metadata": {},
   "outputs": [
    {
     "data": {
      "image/png": "[encoded data removed]",
      "text/plain": [
       "<Figure size 312.48x201.6 with 1 Axes>"
      ]
     },
     "metadata": {
      "needs_background": "light"
     },
     "output_type": "display_data"
    }
   ],
   "source": [
    "plotname = \"fig_series_5b\"\n",
    "\n",
    "scale=.7\n",
    "fig = plt.figure(figsize=(6.2*scale, 4*scale))\n",
    "ax = fig.add_axes([0, 0, 1, 1])\n",
    "\n",
    "# Opmaak\n",
    "for direction in [\"left\", \"right\", \"bottom\", \"top\"]:\n",
    "    # hides borders\n",
    "    ax.spines[direction].set_color('none')\n",
    "    if direction in [\"left\", \"bottom\"]:\n",
    "        ax.spines[direction].set_position('zero')\n",
    "\n",
    "ax.set_xlim(-1, 12)\n",
    "ax.set_ylim(-1.25, 1.35)\n",
    "\n",
    "ax.set_xticks([5, 10])\n",
    "ax.set_yticks([-1, -.5, .5, 1])\n",
    "ax.set_yticklabels([\"-1\", \"-0.5\", \"0.5\", \"1\"])\n",
    "\n",
    "xarrowscale = 4\n",
    "yarrowscale = 3\n",
    "ax.arrow(-1, 0, 12.5, 0, fc='k', ec='k', lw = .7, head_width=0.03*xarrowscale, head_length=0.15*xarrowscale, overhang = 0.3, length_includes_head= True, clip_on = False, zorder=0)\n",
    "ax.arrow(0, -1.25, 0, 2.5, fc='k', ec='k', lw = .7, head_width=0.12*yarrowscale, head_length=0.06*yarrowscale, overhang = 0.3, length_includes_head= True, clip_on = False, zorder=0)\n",
    "\n",
    "ax.text(12, 0, s=\"n\", fontsize=11, ha=\"center\", va=\"center\")\n",
    "ax.text(0, 1.35, s=\"y\", fontsize=11, ha=\"center\", va=\"center\")\n",
    "\n",
    "# Plot\n",
    "n = np.arange(0, 11, 1)\n",
    "y = lambda n : (-1)**(n+1)\n",
    "\n",
    "ax.scatter(n, y(n), s=30, c=\"k\", zorder=1)\n",
    "ax.scatter(np.arange(2, 11, 2), [0 for _ in np.arange(2, 11, 2)], s=30, c=\"gray\", zorder=2)\n",
    "\n",
    "\n",
    "fig.savefig(f\"plots/{plotname}.pdf\", pad_inches=0.01, transparent=\"True\", bbox_inches='tight')"
   ]
  },
  {
   "cell_type": "markdown",
   "metadata": {},
   "source": [
    "### fig_series_6"
   ]
  },
  {
   "cell_type": "code",
   "execution_count": 266,
   "metadata": {},
   "outputs": [
    {
     "data": {
      "image/png": "[encoded data removed]",
      "text/plain": [
       "<Figure size 307.44x201.6 with 1 Axes>"
      ]
     },
     "metadata": {
      "needs_background": "light"
     },
     "output_type": "display_data"
    }
   ],
   "source": [
    "plotname = \"fig_series_6\"\n",
    "\n",
    "scale=.7\n",
    "fig = plt.figure(figsize=(6.1*scale, 4*scale))\n",
    "ax = fig.add_axes([0, 0, 1, 1])\n",
    "\n",
    "# Opmaak\n",
    "for direction in [\"left\", \"right\", \"bottom\", \"top\"]:\n",
    "    # hides borders\n",
    "    ax.spines[direction].set_color('none')\n",
    "    if direction in [\"left\", \"bottom\"]:\n",
    "        ax.spines[direction].set_position('zero')\n",
    "\n",
    "ax.set_xlim(-1, 12)\n",
    "ax.set_ylim(-.25, 2.5)\n",
    "\n",
    "ax.set_xticks([2, 4, 6, 8, 10])\n",
    "ax.set_yticks([1, 2])\n",
    "\n",
    "xarrowscale = 2.5\n",
    "yarrowscale = 2.5\n",
    "ax.arrow(-1, 0, 13, 0, fc='k', ec='k', lw = .7, head_width=0.05*xarrowscale, head_length=0.22*xarrowscale, overhang = 0.3, length_includes_head= True, clip_on = False, zorder=0)\n",
    "ax.arrow(0, -.25, 0, 2.6, fc='k', ec='k', lw = .7, head_width=0.12*yarrowscale, head_length=0.08*yarrowscale, overhang = 0.3, length_includes_head= True, clip_on = False, zorder=0)\n",
    "\n",
    "ax.text(12.5, 0, s=\"n\", fontsize=11, ha=\"center\", va=\"center\")\n",
    "ax.text(0, 2.5, s=\"y\", fontsize=11, ha=\"center\", va=\"center\")\n",
    "\n",
    "# Plot\n",
    "n = np.arange(2, 11, 1)\n",
    "y1 = lambda n : (3/4)**n\n",
    "\n",
    "def y2(n):\n",
    "    return np.sum(y1(np.arange(2, n+1, 1)))\n",
    "\n",
    "y2 = [y2(i) for i in n]\n",
    "ax.scatter(n, y1(n), s=30, c=\"k\", zorder=1)\n",
    "ax.scatter(n, y2, s=30, c=\"gray\", zorder=1)\n",
    "\n",
    "fig.savefig(f\"plots/{plotname}.pdf\", pad_inches=0.01, transparent=\"True\", bbox_inches='tight')"
   ]
  },
  {
   "cell_type": "markdown",
   "metadata": {},
   "source": [
    "### fig_series_7"
   ]
  },
  {
   "cell_type": "code",
   "execution_count": 282,
   "metadata": {},
   "outputs": [
    {
     "data": {
      "image/png": "[encoded data removed]",
      "text/plain": [
       "<Figure size 307.44x201.6 with 1 Axes>"
      ]
     },
     "metadata": {
      "needs_background": "light"
     },
     "output_type": "display_data"
    }
   ],
   "source": [
    "plotname = \"fig_series_7\"\n",
    "\n",
    "scale=.7\n",
    "fig = plt.figure(figsize=(6.1*scale, 4*scale))\n",
    "ax = fig.add_axes([0, 0, 1, 1])\n",
    "\n",
    "# Opmaak\n",
    "for direction in [\"left\", \"right\", \"bottom\", \"top\"]:\n",
    "    # hides borders\n",
    "    ax.spines[direction].set_color('none')\n",
    "    if direction in [\"left\", \"bottom\"]:\n",
    "        ax.spines[direction].set_position('zero')\n",
    "\n",
    "ax.set_xlim(-1, 12)\n",
    "ax.set_ylim(-.25, 1.25)\n",
    "\n",
    "ax.set_xticks([2, 4, 6, 8, 10])\n",
    "ax.set_yticks([0.5, 1])\n",
    "ax.set_yticklabels([\"0.5\", \"1\"])\n",
    "\n",
    "xarrowscale = 2.5\n",
    "yarrowscale = 1.2\n",
    "ax.arrow(-1, 0, 13, 0, fc='k', ec='k', lw = .7, head_width=0.025*xarrowscale, head_length=0.22*xarrowscale, overhang = 0.3, length_includes_head= True, clip_on = False, zorder=0)\n",
    "ax.arrow(0, -.25, 0, 1.4, fc='k', ec='k', lw = .7, head_width=0.25*yarrowscale, head_length=0.08*yarrowscale, overhang = 0.3, length_includes_head= True, clip_on = False, zorder=0)\n",
    "\n",
    "ax.text(12.5, 0, s=\"n\", fontsize=11, ha=\"center\", va=\"center\")\n",
    "ax.text(0, 1.25, s=\"y\", fontsize=11, ha=\"center\", va=\"center\")\n",
    "\n",
    "# Plot\n",
    "n = np.arange(1, 11, 1)\n",
    "y1 = lambda n : 1/n - 1/(n+1)\n",
    "\n",
    "def y2(n):\n",
    "    return np.sum(y1(np.arange(1, n+1, 1)))\n",
    "\n",
    "y2 = [y2(i) for i in n]\n",
    "ax.scatter(n, y1(n), s=30, c=\"k\", zorder=1)\n",
    "ax.scatter(n, y2, s=30, c=\"gray\", zorder=1)\n",
    "\n",
    "fig.savefig(f\"plots/{plotname}.pdf\", pad_inches=0.01, transparent=\"True\", bbox_inches='tight')"
   ]
  },
  {
   "cell_type": "markdown",
   "metadata": {},
   "source": [
    "### fig_series_8a"
   ]
  },
  {
   "cell_type": "code",
   "execution_count": 291,
   "metadata": {},
   "outputs": [
    {
     "data": {
      "image/png": "[encoded data removed]",
      "text/plain": [
       "<Figure size 312.48x201.6 with 1 Axes>"
      ]
     },
     "metadata": {
      "needs_background": "light"
     },
     "output_type": "display_data"
    }
   ],
   "source": [
    "plotname = \"fig_series_8a\"\n",
    "\n",
    "scale=.7\n",
    "fig = plt.figure(figsize=(6.2*scale, 4*scale))\n",
    "ax = fig.add_axes([0, 0, 1, 1])\n",
    "\n",
    "# Opmaak\n",
    "for direction in [\"left\", \"right\", \"bottom\", \"top\"]:\n",
    "    # hides borders\n",
    "    ax.spines[direction].set_color('none')\n",
    "    if direction in [\"left\", \"bottom\"]:\n",
    "        ax.spines[direction].set_position('zero')\n",
    "\n",
    "ax.set_xlim(-1, 12)\n",
    "ax.set_ylim(-.25, 1.75)\n",
    "\n",
    "ax.set_xticks([2, 4, 6, 8, 10])\n",
    "ax.set_yticks([0.5, 1, 1.5])\n",
    "ax.set_yticklabels([\"0.5\", \"1\", \"1.5\"])\n",
    "\n",
    "xarrowscale = 2.5\n",
    "yarrowscale = 1.2\n",
    "ax.arrow(-1, 0, 13, 0, fc='k', ec='k', lw = .7, head_width=0.035*xarrowscale, head_length=0.22*xarrowscale, overhang = 0.3, length_includes_head= True, clip_on = False, zorder=0)\n",
    "ax.arrow(0, -.25, 0, 1.95, fc='k', ec='k', lw = .7, head_width=0.25*yarrowscale, head_length=0.12*yarrowscale, overhang = 0.3, length_includes_head= True, clip_on = False, zorder=0)\n",
    "\n",
    "ax.text(12.5, 0, s=\"n\", fontsize=11, ha=\"center\", va=\"center\")\n",
    "ax.text(0, 1.8, s=\"y\", fontsize=11, ha=\"center\", va=\"center\")\n",
    "\n",
    "# Plot\n",
    "n = np.arange(1, 11, 1)\n",
    "y1 = lambda n : 2/(n**2 + 2*n)\n",
    "\n",
    "def y2(n):\n",
    "    return np.sum(y1(np.arange(1, n+1, 1)))\n",
    "\n",
    "y2 = [y2(i) for i in n]\n",
    "ax.scatter(n, y1(n), s=30, c=\"k\", zorder=1)\n",
    "ax.scatter(n, y2, s=30, c=\"gray\", zorder=1)\n",
    "\n",
    "fig.savefig(f\"plots/{plotname}.pdf\", pad_inches=0.01, transparent=\"True\", bbox_inches='tight')"
   ]
  },
  {
   "cell_type": "markdown",
   "metadata": {},
   "source": [
    "### fig_series_8b"
   ]
  },
  {
   "cell_type": "code",
   "execution_count": 309,
   "metadata": {},
   "outputs": [
    {
     "name": "stderr",
     "output_type": "stream",
     "text": [
      "<ipython-input-309-45099ba65c6f>:30: RuntimeWarning: divide by zero encountered in true_divide\n",
      "  y1 = lambda n : np.log((n+1)/n)\n"
     ]
    },
    {
     "data": {
      "image/png": "[encoded data removed]",
      "text/plain": [
       "<Figure size 322.56x201.6 with 1 Axes>"
      ]
     },
     "metadata": {
      "needs_background": "light"
     },
     "output_type": "display_data"
    }
   ],
   "source": [
    "plotname = \"fig_series_8b\"\n",
    "\n",
    "scale=.7\n",
    "fig = plt.figure(figsize=(6.4*scale, 4*scale))\n",
    "ax = fig.add_axes([0, 0, 1, 1])\n",
    "\n",
    "# Opmaak\n",
    "for direction in [\"left\", \"right\", \"bottom\", \"top\"]:\n",
    "    # hides borders\n",
    "    ax.spines[direction].set_color('none')\n",
    "    if direction in [\"left\", \"bottom\"]:\n",
    "        ax.spines[direction].set_position('zero')\n",
    "\n",
    "ax.set_xlim(-5, 120)\n",
    "ax.set_ylim(-.25, 4.5)\n",
    "\n",
    "ax.set_xticks([50, 100])\n",
    "ax.set_yticks([2])\n",
    "\n",
    "xarrowscale = 6\n",
    "yarrowscale = 2.5\n",
    "ax.arrow(-5, 0, 120, 0, fc='k', ec='k', lw = .7, head_width=0.035*xarrowscale, head_length=0.8*xarrowscale, overhang = 0.3, length_includes_head= True, clip_on = False, zorder=0)\n",
    "ax.arrow(0, -.25, 0, 4.5, fc='k', ec='k', lw = .7, head_width=1*yarrowscale, head_length=0.12*yarrowscale, overhang = 0.3, length_includes_head= True, clip_on = False, zorder=0)\n",
    "\n",
    "ax.text(120, 0, s=\"n\", fontsize=11, ha=\"center\", va=\"center\")\n",
    "ax.text(0, 4.5, s=\"y\", fontsize=11, ha=\"center\", va=\"center\")\n",
    "\n",
    "# Plot\n",
    "n = np.arange(0, 101, 10)\n",
    "y1 = lambda n : np.log((n+1)/n)\n",
    "\n",
    "def y2(n):\n",
    "    return np.sum(y1(np.arange(1, n+1, 1)))\n",
    "\n",
    "y2 = [y2(i) for i in n]\n",
    "ax.scatter(n, y1(n), s=30, c=\"k\", zorder=1)\n",
    "ax.scatter(n[1:], y2[1:], s=30, c=\"gray\", zorder=1)\n",
    "\n",
    "fig.savefig(f\"plots/{plotname}.pdf\", pad_inches=0.01, transparent=\"True\", bbox_inches='tight')"
   ]
  },
  {
   "cell_type": "markdown",
   "metadata": {},
   "source": [
    "### fig_series_9a"
   ]
  },
  {
   "cell_type": "code",
   "execution_count": 339,
   "metadata": {},
   "outputs": [
    {
     "data": {
      "image/png": "[encoded data removed]",
      "text/plain": [
       "<Figure size 307.44x201.6 with 1 Axes>"
      ]
     },
     "metadata": {
      "needs_background": "light"
     },
     "output_type": "display_data"
    }
   ],
   "source": [
    "plotname = \"fig_series_9a\"\n",
    "\n",
    "scale=.7\n",
    "fig = plt.figure(figsize=(6.1*scale, 4*scale))\n",
    "ax = fig.add_axes([0, 0, 1, 1])\n",
    "\n",
    "# Opmaak\n",
    "for direction in [\"left\", \"right\", \"bottom\", \"top\"]:\n",
    "    # hides borders\n",
    "    ax.spines[direction].set_color('none')\n",
    "    if direction in [\"left\", \"bottom\"]:\n",
    "        ax.spines[direction].set_position('zero')\n",
    "\n",
    "ax.set_xlim(-5, 60)\n",
    "ax.set_ylim(-.25, .35)\n",
    "\n",
    "ax.set_xticks([10, 20, 30, 40, 50])\n",
    "ax.set_yticks([-.2, .2])\n",
    "\n",
    "xarrowscale = 10\n",
    "yarrowscale = 12\n",
    "ax.arrow(-5, 0, 62, 0, fc='k', ec='k', lw = .4, head_width=0.0025*xarrowscale, head_length=0.3*xarrowscale, overhang = 0.3, length_includes_head= True, clip_on = False, zorder=0)\n",
    "ax.arrow(0, -.25, 0, .55, fc='k', ec='k', lw = .7, head_width=0.12*yarrowscale, head_length=0.004*yarrowscale, overhang = 0.3, length_includes_head= True, clip_on = False, zorder=0)\n",
    "\n",
    "ax.text(60, 0, s=\"n\", fontsize=11, ha=\"center\", va=\"center\")\n",
    "ax.text(0, .35, s=\"y\", fontsize=11, ha=\"center\", va=\"center\")\n",
    "\n",
    "# Plot\n",
    "n = np.arange(5, 51, 5)\n",
    "y1 = lambda n : (-1)**(n+1)*(n**2 - n)/ n**3\n",
    "\n",
    "def y2(n):\n",
    "    return np.sum(y1(np.arange(1, n+1, 1)))\n",
    "\n",
    "y2 = [y2(i) for i in n]\n",
    "\n",
    "ax.scatter(n, y1(n), s=30, c=\"k\", zorder=1)\n",
    "ax.scatter(n, y2, s=30, c=\"gray\", zorder=1)\n",
    "\n",
    "fig.savefig(f\"plots/{plotname}.pdf\", pad_inches=0.01, transparent=\"True\", bbox_inches='tight')"
   ]
  },
  {
   "cell_type": "markdown",
   "metadata": {},
   "source": [
    "### fig_series_9b"
   ]
  },
  {
   "cell_type": "code",
   "execution_count": 367,
   "metadata": {},
   "outputs": [
    {
     "data": {
      "image/png": "[encoded data removed]",
      "text/plain": [
       "<Figure size 317.52x201.6 with 1 Axes>"
      ]
     },
     "metadata": {
      "needs_background": "light"
     },
     "output_type": "display_data"
    }
   ],
   "source": [
    "plotname = \"fig_series_9b\"\n",
    "\n",
    "scale=.7\n",
    "fig = plt.figure(figsize=(6.3*scale, 4*scale))\n",
    "ax = fig.add_axes([0, 0, 1, 1])\n",
    "\n",
    "# Opmaak\n",
    "for direction in [\"left\", \"right\", \"bottom\", \"top\"]:\n",
    "    # hides borders\n",
    "    ax.spines[direction].set_color('none')\n",
    "    if direction in [\"left\", \"bottom\"]:\n",
    "        ax.spines[direction].set_position('zero')\n",
    "\n",
    "ax.set_xlim(-1, 12)\n",
    "ax.set_ylim(-100, 2350)\n",
    "\n",
    "ax.set_xticks([5, 10])\n",
    "ax.set_yticks([500, 1000, 1500, 2000])\n",
    "\n",
    "xarrowscale =.7\n",
    "yarrowscale = 2.5\n",
    "ax.arrow(-1, 0, 12.5, 0, fc='k', ec='k', lw = .7, head_width=120*xarrowscale, head_length=0.7*xarrowscale, overhang = 0.3, length_includes_head= True, clip_on = False, zorder=0)\n",
    "ax.arrow(0, -100, 0, 2320, fc='k', ec='k', lw = .7, head_width=.1*yarrowscale, head_length=65*yarrowscale, overhang = 0.3, length_includes_head= True, clip_on = False, zorder=0)\n",
    "\n",
    "ax.text(12, 0, s=\"n\", fontsize=11, ha=\"center\", va=\"center\")\n",
    "ax.text(0, 2350, s=\"y\", fontsize=11, ha=\"center\", va=\"center\")\n",
    "\n",
    "# Plot\n",
    "n = np.arange(1, 11, 1)\n",
    "y1 = lambda n : 1000 / np.math.factorial(n)\n",
    "\n",
    "def y2(n):\n",
    "    return np.sum([y1(i) for i in np.arange(1, n+1, 1)])\n",
    "\n",
    "y2 = [y2(i) for i in n]\n",
    "ax.scatter(n, [y1(i) for i in n], s=30, c=\"k\", zorder=1)\n",
    "ax.scatter(n, y2, s=30, c=\"gray\", zorder=1)\n",
    "\n",
    "fig.savefig(f\"plots/{plotname}.pdf\", pad_inches=0.01, transparent=\"True\", bbox_inches='tight')"
   ]
  },
  {
   "cell_type": "markdown",
   "metadata": {},
   "source": [
    "### fig_series_10a"
   ]
  },
  {
   "cell_type": "code",
   "execution_count": 399,
   "metadata": {},
   "outputs": [
    {
     "data": {
      "image/png": "[encoded data removed]",
      "text/plain": [
       "<Figure size 332.64x201.6 with 1 Axes>"
      ]
     },
     "metadata": {
      "needs_background": "light"
     },
     "output_type": "display_data"
    }
   ],
   "source": [
    "plotname = \"fig_series_10a\"\n",
    "\n",
    "from matplotlib import patches\n",
    "\n",
    "scale=.7\n",
    "fig = plt.figure(figsize=(6.6*scale, 4*scale))\n",
    "ax = fig.add_axes([0, 0, 1, 1])\n",
    "\n",
    "# Opmaak\n",
    "for direction in [\"left\", \"right\", \"bottom\", \"top\"]:\n",
    "    # hides borders\n",
    "    ax.spines[direction].set_color('none')\n",
    "    if direction in [\"left\", \"bottom\"]:\n",
    "        ax.spines[direction].set_position('zero')\n",
    "\n",
    "ax.set_xlim(-1, 6)\n",
    "ax.set_ylim(-.5, 3)\n",
    "\n",
    "ax.set_xticks([1, 2, 3, 4, 5])\n",
    "ax.set_yticks([1, 2])\n",
    "\n",
    "xarrowscale = 3.5\n",
    "yarrowscale = 2\n",
    "ax.arrow(-1, 0, 6.75, 0, fc='k', ec='k', lw = .7, head_width=0.04*xarrowscale, head_length=0.08*xarrowscale, overhang = 0.3, length_includes_head= True, clip_on = False, zorder=0)\n",
    "ax.arrow(0, -.5, 0, 3.45, fc='k', ec='k', lw = .7, head_width=0.08*yarrowscale, head_length=0.12*yarrowscale, overhang = 0.3, length_includes_head= True, clip_on = False, zorder=0)\n",
    "\n",
    "ax.text(6, 0, s=\"n\", fontsize=11, ha=\"center\", va=\"center\")\n",
    "ax.text(0, 3.2, s=\"y\", fontsize=11, ha=\"center\", va=\"center\")\n",
    "\n",
    "# Plot\n",
    "x = np.linspace(-.65, 5.5, 1000)\n",
    "y = lambda x : 2*np.exp(-x) + .5\n",
    "ax.plot(x, y(x), c=\"k\", lw=1.5, zorder=1)\n",
    "\n",
    "points = np.arange(1, 5, 1)\n",
    "for point in points:\n",
    "    ax.add_patch(patches.Rectangle((point, 0), 1, y(point), fill=False, lw=1.2, ec=\"gray\", zorder=1))\n",
    "\n",
    "ax.text(1, 2, s=\"$y=a(x)$\", fontsize=11, ha=\"center\", va=\"center\")\n",
    "\n",
    "fig.savefig(f\"plots/{plotname}.pdf\", pad_inches=0.01, transparent=\"True\", bbox_inches='tight')"
   ]
  },
  {
   "cell_type": "markdown",
   "metadata": {},
   "source": [
    "### fig_series_10b"
   ]
  },
  {
   "cell_type": "code",
   "execution_count": 401,
   "metadata": {},
   "outputs": [
    {
     "data": {
      "image/png": "[encoded data removed]",
      "text/plain": [
       "<Figure size 332.64x201.6 with 1 Axes>"
      ]
     },
     "metadata": {
      "needs_background": "light"
     },
     "output_type": "display_data"
    }
   ],
   "source": [
    "plotname = \"fig_series_10b\"\n",
    "\n",
    "from matplotlib import patches\n",
    "\n",
    "scale=.7\n",
    "fig = plt.figure(figsize=(6.6*scale, 4*scale))\n",
    "ax = fig.add_axes([0, 0, 1, 1])\n",
    "\n",
    "# Opmaak\n",
    "for direction in [\"left\", \"right\", \"bottom\", \"top\"]:\n",
    "    # hides borders\n",
    "    ax.spines[direction].set_color('none')\n",
    "    if direction in [\"left\", \"bottom\"]:\n",
    "        ax.spines[direction].set_position('zero')\n",
    "\n",
    "ax.set_xlim(-1, 6)\n",
    "ax.set_ylim(-.5, 3)\n",
    "\n",
    "ax.set_xticks([1, 2, 3, 4, 5])\n",
    "ax.set_yticks([1, 2])\n",
    "\n",
    "xarrowscale = 3.5\n",
    "yarrowscale = 2\n",
    "ax.arrow(-1, 0, 6.75, 0, fc='k', ec='k', lw = .7, head_width=0.04*xarrowscale, head_length=0.08*xarrowscale, overhang = 0.3, length_includes_head= True, clip_on = False, zorder=0)\n",
    "ax.arrow(0, -.5, 0, 3.45, fc='k', ec='k', lw = .7, head_width=0.08*yarrowscale, head_length=0.12*yarrowscale, overhang = 0.3, length_includes_head= True, clip_on = False, zorder=0)\n",
    "\n",
    "ax.text(6, 0, s=\"n\", fontsize=11, ha=\"center\", va=\"center\")\n",
    "ax.text(0, 3.2, s=\"y\", fontsize=11, ha=\"center\", va=\"center\")\n",
    "\n",
    "# Plot\n",
    "x = np.linspace(-.65, 5.5, 1000)\n",
    "y = lambda x : 2*np.exp(-x) + .5\n",
    "ax.plot(x, y(x), c=\"k\", lw=1.5, zorder=1)\n",
    "\n",
    "points = np.arange(1, 5, 1)\n",
    "for point in points:\n",
    "    ax.add_patch(patches.Rectangle((point, 0), 1, y(point + 1), fill=False, lw=1.2, ec=\"gray\", zorder=1))\n",
    "\n",
    "ax.text(1, 2, s=\"$y=a(x)$\", fontsize=11, ha=\"center\", va=\"center\")\n",
    "\n",
    "fig.savefig(f\"plots/{plotname}.pdf\", pad_inches=0.01, transparent=\"True\", bbox_inches='tight')"
   ]
  },
  {
   "cell_type": "markdown",
   "metadata": {},
   "source": [
    "### fig_series_11"
   ]
  },
  {
   "cell_type": "code",
   "execution_count": 410,
   "metadata": {},
   "outputs": [
    {
     "data": {
      "image/png": "[encoded data removed]",
      "text/plain": [
       "<Figure size 302.4x201.6 with 1 Axes>"
      ]
     },
     "metadata": {
      "needs_background": "light"
     },
     "output_type": "display_data"
    }
   ],
   "source": [
    "plotname = \"fig_series_11\"\n",
    "\n",
    "scale=.7\n",
    "fig = plt.figure(figsize=(6*scale, 4*scale))\n",
    "ax = fig.add_axes([0, 0, 1, 1])\n",
    "\n",
    "# Opmaak\n",
    "for direction in [\"left\", \"right\", \"bottom\", \"top\"]:\n",
    "    # hides borders\n",
    "    ax.spines[direction].set_color('none')\n",
    "    if direction in [\"left\", \"bottom\"]:\n",
    "        ax.spines[direction].set_position('zero')\n",
    "\n",
    "ax.set_xlim(-1, 22)\n",
    "ax.set_ylim(-.25, 1)\n",
    "\n",
    "ax.set_xticks([2, 4, 6, 8, 10, 12, 14, 16, 18, 20])\n",
    "ax.set_yticks([0.2, 0.4, 0.6, 0.8])\n",
    "\n",
    "xarrowscale = 2.5\n",
    "yarrowscale = 1.2\n",
    "ax.arrow(-1, 0, 23, 0, fc='k', ec='k', lw = .7, head_width=0.02*xarrowscale, head_length=0.4*xarrowscale, overhang = 0.3, length_includes_head= True, clip_on = False, zorder=0)\n",
    "ax.arrow(0, -.25, 0, 1.2, fc='k', ec='k', lw = .7, head_width=0.5*yarrowscale, head_length=0.08*yarrowscale, overhang = 0.3, length_includes_head= True, clip_on = False, zorder=0)\n",
    "\n",
    "ax.text(23, 0, s=\"n\", fontsize=11, ha=\"center\", va=\"center\")\n",
    "ax.text(0, 1, s=\"y\", fontsize=11, ha=\"center\", va=\"center\")\n",
    "\n",
    "# Plot\n",
    "n = np.arange(1, 21, 1)\n",
    "y1 = lambda n : np.log(n)/n**2\n",
    "def y2(n):\n",
    "    return np.sum(y1(np.arange(1, n+1, 1)))\n",
    "\n",
    "y2 = [y2(i) for i in n]\n",
    "ax.scatter(n, y1(n), s=30, c=\"k\", zorder=1)\n",
    "ax.scatter(n, y2, s=30, c=\"gray\", zorder=1)\n",
    "\n",
    "fig.savefig(f\"plots/{plotname}.pdf\", pad_inches=0.01, transparent=\"True\", bbox_inches='tight')"
   ]
  },
  {
   "cell_type": "markdown",
   "metadata": {},
   "source": [
    "### fig_series_12"
   ]
  },
  {
   "cell_type": "code",
   "execution_count": 442,
   "metadata": {},
   "outputs": [
    {
     "data": {
      "image/png": "[encoded data removed]",
      "text/plain": [
       "<Figure size 316.8x230.4 with 1 Axes>"
      ]
     },
     "metadata": {
      "needs_background": "light"
     },
     "output_type": "display_data"
    }
   ],
   "source": [
    "plotname = \"fig_series_12\"\n",
    "\n",
    "scale=.8\n",
    "fig = plt.figure(figsize=(5.5*scale, 4*scale))\n",
    "ax = fig.add_axes([0, 0, 1, 1])\n",
    "\n",
    "# Opmaak\n",
    "for direction in [\"left\", \"right\", \"bottom\", \"top\"]:\n",
    "    # hides borders\n",
    "    ax.spines[direction].set_color('none')\n",
    "    if direction in [\"left\", \"bottom\"]:\n",
    "        ax.spines[direction].set_position('zero')\n",
    "\n",
    "ax.set_xlim(-1, 12)\n",
    "ax.set_ylim(-.25, 1.35)\n",
    "\n",
    "ax.set_xticks([5, 10])\n",
    "ax.set_yticks([0.5, 1])\n",
    "ax.set_yticklabels([\"0.5\", \"1\"])\n",
    "\n",
    "xarrowscale = 3.2\n",
    "yarrowscale = 1.4\n",
    "ax.arrow(-1, 0, 13, 0, fc='k', ec='k', lw = .5, head_width=0.02*xarrowscale, head_length=0.2*xarrowscale, overhang = 0.3, length_includes_head= True, clip_on = False, zorder=0)\n",
    "ax.arrow(0, -.25, 0, 1.55, fc='k', ec='k', lw = .5, head_width=0.25*yarrowscale, head_length=0.08*yarrowscale, overhang = 0.3, length_includes_head= True, clip_on = False, zorder=0)\n",
    "\n",
    "ax.text(12.5, 0, s=\"n\", fontsize=11, ha=\"center\", va=\"center\")\n",
    "ax.text(0, 1.4, s=\"y\", fontsize=11, ha=\"center\", va=\"center\")\n",
    "\n",
    "# Plot\n",
    "n = np.arange(1, 11, 1)\n",
    "y1 = lambda n : 1/n\n",
    "y2_func = lambda n : (-1)**(n + 1) * (1/n)\n",
    "def y2(n):\n",
    "    return np.sum(y2_func(np.arange(1, n+1, 1)))\n",
    "\n",
    "y2 = [y2(i) for i in n]\n",
    "ax.scatter(n, y1(n), s=25, c=\"k\", zorder=1)\n",
    "ax.scatter(n, y2, s=25, c=\"gray\", zorder=1)\n",
    "\n",
    "ax.plot([0, 10], [.7, .7], '--', c=\"k\", lw=1.4, zorder=0)\n",
    "ax.text(-.2, .7, s=\"L\", fontsize=11, ha=\"center\", va=\"center\")\n",
    "\n",
    "ax.scatter(4.5, 1.3, s=25, c=\"k\", zorder=1)\n",
    "ax.text(5, 1.3, s=\"$a_n$\", fontsize=11, ha=\"center\", va=\"center\")\n",
    "\n",
    "ax.scatter(6, 1.3, s=25, c=\"gray\", zorder=1)\n",
    "ax.text(6.5, 1.3, s=\"$S_n$\", fontsize=11, ha=\"center\", va=\"center\")\n",
    "\n",
    "\n",
    "\n",
    "fig.savefig(f\"plots/{plotname}.pdf\", pad_inches=0.01, transparent=\"True\", bbox_inches='tight')"
   ]
  },
  {
   "cell_type": "markdown",
   "metadata": {},
   "source": [
    "### fig_series_13a"
   ]
  },
  {
   "cell_type": "code",
   "execution_count": 470,
   "metadata": {},
   "outputs": [
    {
     "data": {
      "image/png": "[encoded data removed]",
      "text/plain": [
       "<Figure size 357.12x230.4 with 1 Axes>"
      ]
     },
     "metadata": {
      "needs_background": "light"
     },
     "output_type": "display_data"
    }
   ],
   "source": [
    "plotname = \"fig_series_13a\"\n",
    "\n",
    "scale=.8\n",
    "fig = plt.figure(figsize=(6.2*scale, 4*scale))\n",
    "ax = fig.add_axes([0, 0, 1, 1])\n",
    "\n",
    "# Opmaak\n",
    "for direction in [\"left\", \"right\", \"bottom\", \"top\"]:\n",
    "    # hides borders\n",
    "    ax.spines[direction].set_color('none')\n",
    "    if direction in [\"left\", \"bottom\"]:\n",
    "        ax.spines[direction].set_position('zero')\n",
    "\n",
    "ax.set_xlim(-4.5, 5)\n",
    "ax.set_ylim(-5.5, 13)\n",
    "\n",
    "ax.set_xticks([-4, -2, 2, 4])\n",
    "ax.set_yticks([-5, 5, 10])\n",
    "\n",
    "xarrowscale = .75\n",
    "yarrowscale = 1\n",
    "ax.arrow(-4.5, 0, 9.25, 0, fc='k', ec='k', lw = .7, head_width=0.9*xarrowscale, head_length=0.5*xarrowscale, overhang = 0.3, length_includes_head= True, clip_on = False, zorder=0)\n",
    "ax.arrow(0, -5.5, 0, 17.5, fc='k', ec='k', lw = .7, head_width=0.24*yarrowscale, head_length=1.2*yarrowscale, overhang = 0.3, length_includes_head= True, clip_on = False, zorder=0)\n",
    "\n",
    "ax.text(5, 0, s=\"x\", fontsize=12, ha=\"center\", va=\"center\")\n",
    "ax.text(0, 13, s=\"y\", fontsize=12, ha=\"center\", va=\"center\")\n",
    "\n",
    "# Plot\n",
    "x = np.linspace(-4, 4, 1000)\n",
    "f = lambda x : np.exp(x) * np.sin(x) + 2\n",
    "p1 = lambda x : x + 2\n",
    "\n",
    "ax.plot(x, f(x), color=\"k\", lw=1.4, zorder=0)\n",
    "ax.text(-3, 3, s=\"$y=f(x)$\", fontsize=12, ha=\"center\", va=\"center\")\n",
    "\n",
    "ax.plot(x, p1(x), color=\"gray\", lw=1.4, zorder=0)\n",
    "ax.text(-3, -3, s=\"$y=p_1(x)$\", fontsize=12, ha=\"center\", va=\"center\")\n",
    "\n",
    "\n",
    "fig.savefig(f\"plots/{plotname}.pdf\", pad_inches=0.01, transparent=\"True\", bbox_inches='tight')"
   ]
  },
  {
   "cell_type": "markdown",
   "metadata": {},
   "source": [
    "### fig_series_13b"
   ]
  },
  {
   "cell_type": "code",
   "execution_count": 479,
   "metadata": {},
   "outputs": [
    {
     "data": {
      "image/png": "[encoded data removed]",
      "text/plain": [
       "<Figure size 357.12x230.4 with 1 Axes>"
      ]
     },
     "metadata": {
      "needs_background": "light"
     },
     "output_type": "display_data"
    }
   ],
   "source": [
    "plotname = \"fig_series_13b\"\n",
    "\n",
    "scale=.8\n",
    "fig = plt.figure(figsize=(6.2*scale, 4*scale))\n",
    "ax = fig.add_axes([0, 0, 1, 1])\n",
    "\n",
    "# Opmaak\n",
    "for direction in [\"left\", \"right\", \"bottom\", \"top\"]:\n",
    "    # hides borders\n",
    "    ax.spines[direction].set_color('none')\n",
    "    if direction in [\"left\", \"bottom\"]:\n",
    "        ax.spines[direction].set_position('zero')\n",
    "\n",
    "ax.set_xlim(-4.5, 5)\n",
    "ax.set_ylim(-5.5, 13)\n",
    "\n",
    "ax.set_xticks([-4, -2, 2, 4])\n",
    "ax.set_yticks([-5, 5, 10])\n",
    "\n",
    "xarrowscale = .75\n",
    "yarrowscale = 1\n",
    "ax.arrow(-4.5, 0, 9.25, 0, fc='k', ec='k', lw = .7, head_width=0.9*xarrowscale, head_length=0.5*xarrowscale, overhang = 0.3, length_includes_head= True, clip_on = False, zorder=0)\n",
    "ax.arrow(0, -5.5, 0, 17.5, fc='k', ec='k', lw = .7, head_width=0.24*yarrowscale, head_length=1.2*yarrowscale, overhang = 0.3, length_includes_head= True, clip_on = False, zorder=0)\n",
    "\n",
    "ax.text(5, 0, s=\"x\", fontsize=12, ha=\"center\", va=\"center\")\n",
    "ax.text(0, 13, s=\"y\", fontsize=12, ha=\"center\", va=\"center\")\n",
    "\n",
    "# Plot\n",
    "x = np.linspace(-4, 4, 1000)\n",
    "f = lambda x : np.exp(x) * np.sin(x) + 2\n",
    "p2 = lambda x : x**2 + x + 2\n",
    "p4 = lambda x : -x**4 / 2  - x**3 / 6 + x**2 + x + 2\n",
    "\n",
    "ax.plot(x, f(x), color=\"k\", lw=1.4, zorder=0)\n",
    "\n",
    "ax.plot(x, p2(x), color=\"gray\", lw=1.4, zorder=0)\n",
    "ax.text(-3, 4.5, s=\"$y=p_2(x)$\", fontsize=12, ha=\"center\", va=\"center\")\n",
    "\n",
    "ax.plot(x, p4(x), color=\"gray\", lw=1.4, zorder=0)\n",
    "ax.text(-3, -3.5, s=\"$y=p_4(x)$\", fontsize=12, ha=\"center\", va=\"center\")\n",
    "\n",
    "fig.savefig(f\"plots/{plotname}.pdf\", pad_inches=0.01, transparent=\"True\", bbox_inches='tight')"
   ]
  },
  {
   "cell_type": "markdown",
   "metadata": {},
   "source": [
    "### fig_series_13c"
   ]
  },
  {
   "cell_type": "code",
   "execution_count": 28,
   "metadata": {},
   "outputs": [
    {
     "data": {
      "image/png": "[encoded data removed]",
      "text/plain": [
       "<Figure size 357.12x230.4 with 1 Axes>"
      ]
     },
     "metadata": {
      "needs_background": "light"
     },
     "output_type": "display_data"
    }
   ],
   "source": [
    "plotname = \"fig_series_13c\"\n",
    "\n",
    "from sympy import symbols, Function, pprint\n",
    "import sympy as syp\n",
    "\n",
    "scale=.8\n",
    "fig = plt.figure(figsize=(6.2*scale, 4*scale))\n",
    "ax = fig.add_axes([0, 0, 1, 1])\n",
    "\n",
    "# Opmaak\n",
    "for direction in [\"left\", \"right\", \"bottom\", \"top\"]:\n",
    "    # hides borders\n",
    "    ax.spines[direction].set_color('none')\n",
    "    if direction in [\"left\", \"bottom\"]:\n",
    "        ax.spines[direction].set_position('zero')\n",
    "\n",
    "ax.set_xlim(-4.5, 5)\n",
    "ax.set_ylim(-5.5, 13)\n",
    "\n",
    "ax.set_xticks([-4, -2, 2, 4])\n",
    "ax.set_yticks([-5, 5, 10])\n",
    "\n",
    "xarrowscale = .75\n",
    "yarrowscale = 1\n",
    "ax.arrow(-4.5, 0, 9.25, 0, fc='k', ec='k', lw = .7, head_width=0.9*xarrowscale, head_length=0.5*xarrowscale, overhang = 0.3, length_includes_head= True, clip_on = False, zorder=0)\n",
    "ax.arrow(0, -5.5, 0, 17.5, fc='k', ec='k', lw = .7, head_width=0.24*yarrowscale, head_length=1.2*yarrowscale, overhang = 0.3, length_includes_head= True, clip_on = False, zorder=0)\n",
    "\n",
    "ax.text(5, 0, s=\"x\", fontsize=12, ha=\"center\", va=\"center\")\n",
    "ax.text(0, 13, s=\"y\", fontsize=12, ha=\"center\", va=\"center\")\n",
    "\n",
    "# Plot\n",
    "x = np.linspace(-4, 4, 100)\n",
    "f = lambda x : np.exp(x) * np.sin(x) + 2\n",
    "p13 = lambda x : 2 + x + x**2 + x**(3)/3  - x**(5)/30 - x**(6)/90 - x**(7)/630 + x**(9)/22680 + x**(10)/113400 + x**(11)/1247400 - x**(13)/97297200\n",
    "\n",
    "ax.plot(x, f(x), color=\"k\", lw=1.4, zorder=0)\n",
    "ax.plot(x, p13(x), color=\"gray\", lw=1.4, zorder=0)\n",
    "ax.text(-2.9, 2.8, s=\"$y=p_{13}(x)$\", fontsize=12, ha=\"center\", va=\"center\")\n",
    "\n",
    "fig.savefig(f\"plots/{plotname}.pdf\", pad_inches=0.01, transparent=\"True\", bbox_inches='tight')"
   ]
  },
  {
   "cell_type": "markdown",
   "metadata": {},
   "source": [
    "### fig_series_14a"
   ]
  },
  {
   "cell_type": "code",
   "execution_count": 34,
   "metadata": {},
   "outputs": [
    {
     "name": "stderr",
     "output_type": "stream",
     "text": [
      "<ipython-input-34-d4ed00e7ea5b>:33: RuntimeWarning: invalid value encountered in log\n",
      "  f = lambda x : np.log(x)\n"
     ]
    },
    {
     "data": {
      "image/png": "[encoded data removed]",
      "text/plain": [
       "<Figure size 357.12x230.4 with 1 Axes>"
      ]
     },
     "metadata": {
      "needs_background": "light"
     },
     "output_type": "display_data"
    }
   ],
   "source": [
    "plotname = \"fig_series_14a\"\n",
    "\n",
    "from sympy import symbols, Function, pprint\n",
    "import sympy as syp\n",
    "\n",
    "scale=.8\n",
    "fig = plt.figure(figsize=(6.2*scale, 4*scale))\n",
    "ax = fig.add_axes([0, 0, 1, 1])\n",
    "\n",
    "# Opmaak\n",
    "for direction in [\"left\", \"right\", \"bottom\", \"top\"]:\n",
    "    # hides borders\n",
    "    ax.spines[direction].set_color('none')\n",
    "    if direction in [\"left\", \"bottom\"]:\n",
    "        ax.spines[direction].set_position('zero')\n",
    "\n",
    "ax.set_xlim(-1, 3)\n",
    "ax.set_ylim(-5, 3)\n",
    "\n",
    "ax.set_xticks([1, 2])\n",
    "ax.set_yticks([-4, -2, 2])\n",
    "\n",
    "xarrowscale = .35\n",
    "yarrowscale = .4\n",
    "ax.arrow(-1, 0, 4, 0, fc='k', ec='k', lw = .7, head_width=0.9*xarrowscale, head_length=0.5*xarrowscale, overhang = 0.3, length_includes_head= True, clip_on = False, zorder=0)\n",
    "ax.arrow(0, -5, 0, 8, fc='k', ec='k', lw = .7, head_width=0.24*yarrowscale, head_length=1.4*yarrowscale, overhang = 0.3, length_includes_head= True, clip_on = False, zorder=0)\n",
    "\n",
    "ax.text(3.1, 0, s=\"x\", fontsize=12, ha=\"center\", va=\"center\")\n",
    "ax.text(0, 3.3, s=\"y\", fontsize=12, ha=\"center\", va=\"center\")\n",
    "\n",
    "# Plot\n",
    "x = np.linspace(-4, 4, 1000)\n",
    "f = lambda x : np.log(x)\n",
    "p6 = lambda x : (x-1) - 1/2*(x-1)**2 + 1/3*(x-1)**3 - 1/4*(x-1)**4 + 1/5*(x-1)**5 - 1/6*(x-1)**6\n",
    "\n",
    "ax.plot(x, f(x), color=\"k\", lw=1.7, zorder=0)\n",
    "ax.plot(x, p6(x), color=\"gray\", lw=1.7, zorder=0)\n",
    "ax.text(2.35, -2.5, s=\"$y=p_6(x)$\", fontsize=12, ha=\"center\", va=\"center\")\n",
    "\n",
    "fig.savefig(f\"plots/{plotname}.pdf\", pad_inches=0.01, transparent=\"True\", bbox_inches='tight')"
   ]
  },
  {
   "cell_type": "markdown",
   "metadata": {},
   "source": [
    "### fig_series_4b"
   ]
  },
  {
   "cell_type": "code",
   "execution_count": 37,
   "metadata": {},
   "outputs": [
    {
     "name": "stderr",
     "output_type": "stream",
     "text": [
      "<ipython-input-37-f78f629e63df>:33: RuntimeWarning: invalid value encountered in log\n",
      "  f = lambda x : np.log(x)\n"
     ]
    },
    {
     "data": {
      "image/png": "[encoded data removed]",
      "text/plain": [
       "<Figure size 357.12x230.4 with 1 Axes>"
      ]
     },
     "metadata": {
      "needs_background": "light"
     },
     "output_type": "display_data"
    }
   ],
   "source": [
    "plotname = \"fig_series_14b\"\n",
    "\n",
    "from sympy import symbols, Function, pprint\n",
    "import sympy as syp\n",
    "\n",
    "scale=.8\n",
    "fig = plt.figure(figsize=(6.2*scale, 4*scale))\n",
    "ax = fig.add_axes([0, 0, 1, 1])\n",
    "\n",
    "# Opmaak\n",
    "for direction in [\"left\", \"right\", \"bottom\", \"top\"]:\n",
    "    # hides borders\n",
    "    ax.spines[direction].set_color('none')\n",
    "    if direction in [\"left\", \"bottom\"]:\n",
    "        ax.spines[direction].set_position('zero')\n",
    "\n",
    "ax.set_xlim(-1, 3)\n",
    "ax.set_ylim(-5, 3)\n",
    "\n",
    "ax.set_xticks([1, 2])\n",
    "ax.set_yticks([-4, -2, 2])\n",
    "\n",
    "xarrowscale = .35\n",
    "yarrowscale = .4\n",
    "ax.arrow(-1, 0, 4, 0, fc='k', ec='k', lw = .7, head_width=0.9*xarrowscale, head_length=0.5*xarrowscale, overhang = 0.3, length_includes_head= True, clip_on = False, zorder=0)\n",
    "ax.arrow(0, -5, 0, 8, fc='k', ec='k', lw = .7, head_width=0.24*yarrowscale, head_length=1.4*yarrowscale, overhang = 0.3, length_includes_head= True, clip_on = False, zorder=0)\n",
    "\n",
    "ax.text(3.1, 0, s=\"x\", fontsize=12, ha=\"center\", va=\"center\")\n",
    "ax.text(0, 3.3, s=\"y\", fontsize=12, ha=\"center\", va=\"center\")\n",
    "\n",
    "# Plot\n",
    "x = np.linspace(-4, 4, 1000)\n",
    "f = lambda x : np.log(x)\n",
    "p20 = lambda x : (x-1) - 1/2*(x-1)**2 + 1/3*(x-1)**3 - 1/4*(x-1)**4 + 1/5*(x-1)**5 - 1/6*(x-1)**6 + 1/7*(x-1)**7 - 1/8*(x-1)**8 + 1/9*(x-1)**9 - 1/10*(x-1)**10 + 1/11*(x-1)**11 - 1/12*(x-1)**12 + 1/13*(x-1)**13 - 1/14*(x-1)**14 + 1/15*(x-1)**15 - 1/16*(x-1)**16 + 1/17*(x-1)**17 - 1/18*(x-1)**18 + 1/19*(x-1)**19 - 1/20*(x-1)**20\n",
    "\n",
    "ax.plot(x, f(x), color=\"k\", lw=1.7, zorder=0)\n",
    "ax.plot(x, p20(x), color=\"gray\", lw=1.7, zorder=0)\n",
    "ax.text(1.9, -2.5, s=\"$y=p_{20}(x)$\", fontsize=12, ha=\"center\", va=\"center\")\n",
    "\n",
    "fig.savefig(f\"plots/{plotname}.pdf\", pad_inches=0.01, transparent=\"True\", bbox_inches='tight')"
   ]
  },
  {
   "cell_type": "markdown",
   "metadata": {},
   "source": [
    "### fig_series_15"
   ]
  },
  {
   "cell_type": "code",
   "execution_count": 46,
   "metadata": {},
   "outputs": [
    {
     "data": {
      "image/png": "[encoded data removed]",
      "text/plain": [
       "<Figure size 322.56x230.4 with 1 Axes>"
      ]
     },
     "metadata": {
      "needs_background": "light"
     },
     "output_type": "display_data"
    }
   ],
   "source": [
    "plotname = \"fig_series_15\"\n",
    "\n",
    "from sympy import symbols, Function, pprint\n",
    "import sympy as syp\n",
    "\n",
    "scale=.8\n",
    "fig = plt.figure(figsize=(5.6*scale, 4*scale))\n",
    "ax = fig.add_axes([0, 0, 1, 1])\n",
    "\n",
    "# Opmaak\n",
    "for direction in [\"left\", \"right\", \"bottom\", \"top\"]:\n",
    "    # hides borders\n",
    "    ax.spines[direction].set_color('none')\n",
    "    if direction in [\"left\", \"bottom\"]:\n",
    "        ax.spines[direction].set_position('zero')\n",
    "\n",
    "ax.set_xlim(-6, 6)\n",
    "ax.set_ylim(-1.6, 1.5)\n",
    "\n",
    "ax.set_xticks([-5, -4, -3, -2, -1, 1, 2, 3, 4, 5])\n",
    "ax.set_yticks([-1, 1])\n",
    "\n",
    "xarrowscale = .6\n",
    "yarrowscale = 1.2\n",
    "ax.arrow(-6, 0, 11.75, 0, fc='k', ec='k', lw = .5, head_width=0.2*xarrowscale, head_length=0.8*xarrowscale, overhang = 0.3, length_includes_head= True, clip_on = False, zorder=0)\n",
    "ax.arrow(0, -1.2, 0, 2.6, fc='k', ec='k', lw = .5, head_width=0.24*yarrowscale, head_length=.17*yarrowscale, overhang = 0.3, length_includes_head= True, clip_on = False, zorder=0)\n",
    "\n",
    "ax.text(6, 0, s=\"x\", fontsize=12, ha=\"center\", va=\"center\")\n",
    "ax.text(0, 1.5, s=\"y\", fontsize=12, ha=\"center\", va=\"center\")\n",
    "\n",
    "# Plot\n",
    "x = np.linspace(-5, 5, 100)\n",
    "f = lambda x : np.cos(x)\n",
    "# maclaurin approximation for cos(x) to order 8 centered at 0\n",
    "p8 = lambda x : 1 - x**2/2 + x**4/24 - x**6/720 + x**8/40320\n",
    "\n",
    "ax.plot(x, f(x), color=\"k\", lw=1.4, zorder=0)\n",
    "ax.plot(x, p8(x), color=\"gray\", lw=1.4, zorder=0)\n",
    "ax.text(-3, 1, s=\"$y=p_8(x)$\", fontsize=12, ha=\"center\", va=\"center\")\n",
    "\n",
    "y = -1.4\n",
    "ax.plot([-1.75, -1.25], [y, y], color=\"k\", lw=1, zorder=0)\n",
    "ax.text(.2, y, s=\"$f(x) = \\cos(x)$\", fontsize=10, ha=\"center\", va=\"center\")\n",
    "\n",
    "fig.savefig(f\"plots/{plotname}.pdf\", pad_inches=0.01, transparent=\"True\", bbox_inches='tight')"
   ]
  },
  {
   "cell_type": "code",
   "execution_count": null,
   "metadata": {},
   "outputs": [],
   "source": []
  }
 ],
 "metadata": {
  "interpreter": {
   "hash": "92d26938485ea6bea67bf2e2bb4662b06e39d7cc20cef26f940ca706eab939d3"
  },
  "kernelspec": {
   "display_name": "Python 3",
   "language": "python",
   "name": "python3"
  },
  "language_info": {
   "codemirror_mode": {
    "name": "ipython",
    "version": 3
   },
   "file_extension": ".py",
   "mimetype": "text/x-python",
   "name": "python",
   "nbconvert_exporter": "python",
   "pygments_lexer": "ipython3",
   "version": "3.8.5"
  }
 },
 "nbformat": 4,
 "nbformat_minor": 4
}
